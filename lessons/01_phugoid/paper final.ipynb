{
 "cells": [
  {
   "cell_type": "code",
   "execution_count": 1,
   "metadata": {
    "collapsed": true
   },
   "outputs": [],
   "source": [
    "from math import sin, cos, ceil\n",
    "import numpy\n",
    "from matplotlib import pyplot\n",
    "%matplotlib inline"
   ]
  },
  {
   "cell_type": "code",
   "execution_count": 2,
   "metadata": {
    "collapsed": true
   },
   "outputs": [],
   "source": [
    "g = 9.81\n",
    "v_t = 4.9\n",
    "CDCL = 1/5.\n",
    "x0 = 0.\n",
    "y0 = 0."
   ]
  },
  {
   "cell_type": "code",
   "execution_count": 3,
   "metadata": {
    "collapsed": true
   },
   "outputs": [],
   "source": [
    "def f(u):\n",
    "    v = u[0]\n",
    "    theta = u[1]\n",
    "    x = u[2]\n",
    "    y = u[3]\n",
    "    return numpy.array([-g*sin(theta) - CDCL*g/v_t**2*v**2, -g*cos(theta)/v + g/v_t**2*v, v*cos(theta), v*sin(theta)])"
   ]
  },
  {
   "cell_type": "code",
   "execution_count": 4,
   "metadata": {
    "collapsed": true
   },
   "outputs": [],
   "source": [
    "def euler_step(u, f, dt):\n",
    "    return u + dt*f(u)"
   ]
  },
  {
   "cell_type": "code",
   "execution_count": 5,
   "metadata": {
    "collapsed": false
   },
   "outputs": [],
   "source": [
    "T = 100.\n",
    "dt = 0.001\n",
    "N = int(T/dt)+1\n",
    "t = numpy.linspace(0., T, N)\n",
    "u = numpy.empty((N,4))\n",
    "u_values = numpy.empty((int((10-4.9)/.2)+1, (int(90/2)+1)), dtype=numpy.ndarray)\n",
    "\n",
    "v0_values = numpy.empty(int((10-4.9)/0.2)+1)\n",
    "for k in range(int((10-4.9)/.2)+1):\n",
    "    v0_values[k]= 4.9 + k*0.2\n",
    "\n",
    "theta0_values = numpy.empty(int(90/2)+1)\n",
    "for l in range(int(90/2)+1):\n",
    "    theta0_values[l]= 0 + l*2\n",
    "\n",
    "x_array=numpy.empty(((int((10-4.9)/0.2)+1)*(int(90/2)+1), 3))\n",
    "for i, v0 in enumerate(v0_values):\n",
    "    for j, theta0 in enumerate(theta0_values):\n",
    "        u[0] = numpy.array([v0, theta0, x0, y0])\n",
    "        for n in range(N-1):\n",
    "            u[n+1] = euler_step(u[n], f, dt)\n",
    "            if u[n+1, 3] < 0:\n",
    "                break\n",
    "        u_values[i,j] = u\n",
    "        max_x = u[:,2].max()\n",
    "        for m in range((int((10-4.9)/0.2)+1)*(int(90/2)+1)):\n",
    "            x_array[m]=([v0, theta0, max_x])"
   ]
  },
  {
   "cell_type": "code",
   "execution_count": 6,
   "metadata": {
    "collapsed": false
   },
   "outputs": [
    {
     "data": {
      "text/plain": [
       "array([[  9.9       ,  90.        ,   6.19320089],\n",
       "       [  9.9       ,  90.        ,   6.19320089],\n",
       "       [  9.9       ,  90.        ,   6.19320089],\n",
       "       ..., \n",
       "       [  9.9       ,  90.        ,   6.19320089],\n",
       "       [  9.9       ,  90.        ,   6.19320089],\n",
       "       [  9.9       ,  90.        ,   6.19320089]])"
      ]
     },
     "execution_count": 6,
     "metadata": {},
     "output_type": "execute_result"
    }
   ],
   "source": [
    "x_array"
   ]
  },
  {
   "cell_type": "code",
   "execution_count": null,
   "metadata": {
    "collapsed": true
   },
   "outputs": [],
   "source": []
  }
 ],
 "metadata": {
  "kernelspec": {
   "display_name": "Python 2",
   "language": "python",
   "name": "python2"
  },
  "language_info": {
   "codemirror_mode": {
    "name": "ipython",
    "version": 2
   },
   "file_extension": ".py",
   "mimetype": "text/x-python",
   "name": "python",
   "nbconvert_exporter": "python",
   "pygments_lexer": "ipython2",
   "version": "2.7.10"
  }
 },
 "nbformat": 4,
 "nbformat_minor": 0
}
